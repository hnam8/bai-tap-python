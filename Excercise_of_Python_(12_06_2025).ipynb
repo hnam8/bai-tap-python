{
  "cells": [
    {
      "cell_type": "code",
      "execution_count": null,
      "metadata": {
        "id": "gJr_9dXGpJ05",
        "outputId": "1441f8e6-5661-47b3-d747-142c0ee66ed1",
        "colab": {
          "base_uri": "https://localhost:8080/"
        }
      },
      "outputs": [
        {
          "output_type": "stream",
          "name": "stdout",
          "text": [
            "Enter your weight:\n",
            "0\n",
            "Please enter a positive number\n",
            "0\n",
            "Please enter a positive number\n",
            "60\n",
            "Enter your height:\n",
            "170\n",
            "Your BMI is 20.76 and it falls within the healthy weight range\n"
          ]
        }
      ],
      "source": [
        "# Exercise 1:Create a Function to Calculate the Body Mass Index (BMI)\n",
        "def calculate_bmi(weight, height):\n",
        "  bmi=weight/((height/100)**2)\n",
        "  return bmi\n",
        "def bmiIndexClassification(bmi):\n",
        "  if bmi <= 18.5:\n",
        "    print(f\"Your BMI is {bmi:.2f} and it falls within the underweight range\")\n",
        "  elif bmi < 25:\n",
        "    print(f\"Your BMI is {bmi:.2f} and it falls within the healthy weight range\")\n",
        "  elif 25.0 < bmi < 30:\n",
        "    print(f\"Your BMI is {bmi:.2f} and it falls within the overweight range\")\n",
        "  elif bmi >= 30:\n",
        "    print(f\"Your BMI is {bmi:.2f} and it falls within the obesity range\")\n",
        "def enterPossitiveNumbers():\n",
        "  while True:\n",
        "    try:\n",
        "      #value:(weightvalue && heightvalue)\n",
        "      value = float(input())\n",
        "      if value <= 0:\n",
        "        print(\"Please enter a positive number\")\n",
        "      else:\n",
        "        return value\n",
        "    except ValueError:\n",
        "      print(\"Invalid input. Please enter a number\")\n",
        "print(\"Enter your weight:\")\n",
        "weight = enterPossitiveNumbers()\n",
        "print(\"Enter your height:\")\n",
        "height = enterPossitiveNumbers()\n",
        "\n",
        "bmi = calculate_bmi(weight, height)\n",
        "bmiIndexClassification(bmi)"
      ]
    },
    {
      "cell_type": "code",
      "execution_count": null,
      "metadata": {
        "id": "-gE-Ez1qtyIA",
        "outputId": "2c3504dd-17b3-4a83-c4d0-04df1a467e6c",
        "colab": {
          "base_uri": "https://localhost:8080/"
        }
      },
      "outputs": [
        {
          "output_type": "stream",
          "name": "stdout",
          "text": [
            "Enter a celcious number:\n",
            "60\n",
            "The corresponding Fahrenheit temperature is 140.00\n"
          ]
        }
      ],
      "source": [
        "# Excercise 2:Convert Celsius to Fahrenheit\n",
        "def calculateConvert(celcious):\n",
        "  fahrenheit = (celcious * 9/5) + 32\n",
        "  return fahrenheit\n",
        "def enterValidvalue():\n",
        "  while True:\n",
        "    try:\n",
        "     a = float(input())\n",
        "     if a <= 0:\n",
        "      print(\"Please enter a positive number\")\n",
        "     else:\n",
        "      return a\n",
        "    except ValueError:\n",
        "      print(\"Invalid input. Please enter a number\")\n",
        "print(\"Enter a celcious number:\")\n",
        "celcious = enterValidvalue()\n",
        "fahrenheit = calculateConvert(celcious)\n",
        "print(f\"The corresponding Fahrenheit temperature is {fahrenheit:.2f}\")"
      ]
    },
    {
      "cell_type": "code",
      "execution_count": null,
      "metadata": {
        "colab": {
          "base_uri": "https://localhost:8080/"
        },
        "id": "C4HZx7Gndbrh",
        "outputId": "fcdf4364-d725-4b3d-f201-8f2c557e5ff3"
      },
      "outputs": [
        {
          "output_type": "stream",
          "name": "stdout",
          "text": [
            "Enter the first number:\n",
            "7\n",
            "Enter the second number:\n",
            "5\n",
            "Enter the operator (+, -, *, /):\n",
            "*\n",
            "The multiplication of 7.0 and 5.0 is 35.0\n"
          ]
        }
      ],
      "source": [
        "# Excercise 3:Create a Function to Create a Simple Calculator\n",
        "def calculate(a, b, operator):\n",
        "  result_type1 = a + b\n",
        "  result_type2 = a - b\n",
        "  result_type3 = a * b\n",
        "  result_type4 = a / b\n",
        "  if operator == \"+\":\n",
        "    print(f\"The sum of {a} and {b} is {result_type1}\")\n",
        "  elif operator == '-':\n",
        "    print(f\"The minous of {a} and {b} is {result_type2}\")\n",
        "  elif operator == '*':\n",
        "    print(f\"The multiplication of {a} and {b} is {result_type3}\")\n",
        "  elif operator == '/':\n",
        "    print(f\"The divide of {a} and {b} is {result_type4}\")\n",
        "  else:\n",
        "    result = None\n",
        "\n",
        "print(\"Enter the first number:\")\n",
        "a = enterValidvalue()\n",
        "print(\"Enter the second number:\")\n",
        "b = enterValidvalue()\n",
        "print(\"Enter the operator (+, -, *, /):\")\n",
        "operator = input()\n",
        "calculate(a, b, operator)\n",
        "\n"
      ]
    },
    {
      "cell_type": "code",
      "execution_count": 2,
      "metadata": {
        "colab": {
          "base_uri": "https://localhost:8080/"
        },
        "outputId": "f658187a-e8cf-49e5-fb5e-fb7946fb3753",
        "id": "phugEeykzQck"
      },
      "outputs": [
        {
          "output_type": "stream",
          "name": "stdout",
          "text": [
            "Enter the probability of Head (0 to 1): 0.6\n",
            "0.6 Tails\n"
          ]
        }
      ],
      "source": [
        "# Excercise 4:Create a Function to Simulate a Coin Toss\n",
        "import random\n",
        "\n",
        "def coin_toss(probability_of_head):\n",
        "    if not (0 <= probability_of_head <= 1):\n",
        "        return \"Error: Probability must be between 0 and 1\"\n",
        "\n",
        "    result = \"Head\" if random.random() < probability_of_head else \"Tails\"\n",
        "    return result\n",
        "\n",
        "prob = float(input(\"Enter the probability of Head (0 to 1): \"))\n",
        "\n",
        "print(prob, coin_toss(prob))\n"
      ]
    },
    {
      "cell_type": "markdown",
      "source": [
        "# Mục mới"
      ],
      "metadata": {
        "id": "XLcDZDsExD7C"
      }
    }
  ],
  "metadata": {
    "colab": {
      "provenance": [],
      "toc_visible": true
    },
    "kernelspec": {
      "display_name": "Python 3",
      "name": "python3"
    }
  },
  "nbformat": 4,
  "nbformat_minor": 0
}